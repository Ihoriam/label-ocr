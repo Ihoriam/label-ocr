{
 "cells": [
  {
   "cell_type": "code",
   "execution_count": 10,
   "id": "appointed-egypt",
   "metadata": {},
   "outputs": [],
   "source": [
    "import os\n",
    "import numpy as np\n",
    "import shutil"
   ]
  },
  {
   "cell_type": "code",
   "execution_count": 11,
   "id": "hydraulic-parameter",
   "metadata": {},
   "outputs": [],
   "source": [
    "old_dir_img = 'connected_mark/images/'\n",
    "old_dir_anot = 'connected_mark/anotations/'\n",
    "\n",
    "new_dir = 'dataset'"
   ]
  },
  {
   "cell_type": "code",
   "execution_count": 12,
   "id": "dense-roads",
   "metadata": {},
   "outputs": [],
   "source": [
    "try:\n",
    "    shutil.rmtree(new_dir)\n",
    "except OSError as e:\n",
    "    print (\"Error: %s - %s.\" % (e.filename, e.strerror))"
   ]
  },
  {
   "cell_type": "code",
   "execution_count": 13,
   "id": "brief-reliance",
   "metadata": {},
   "outputs": [],
   "source": [
    "os.makedirs(new_dir +'/images' + '/train', exist_ok=True)\n",
    "os.makedirs(new_dir +'/images' + '/val', exist_ok=True)\n",
    "\n",
    "os.makedirs(new_dir +'/labels' + '/train', exist_ok=True)\n",
    "os.makedirs(new_dir +'/labels' + '/val', exist_ok=True)"
   ]
  },
  {
   "cell_type": "code",
   "execution_count": 14,
   "id": "natural-lottery",
   "metadata": {},
   "outputs": [
    {
     "name": "stdout",
     "output_type": "stream",
     "text": [
      "143\n"
     ]
    },
    {
     "data": {
      "text/plain": [
       "['20201109_162939',\n",
       " '20201109_192809',\n",
       " '20201109_161826',\n",
       " '20201109_161547',\n",
       " '20201109_163129(0)']"
      ]
     },
     "execution_count": 14,
     "metadata": {},
     "output_type": "execute_result"
    }
   ],
   "source": [
    "all_file_names = os.listdir(old_dir_img)\n",
    "all_file_names = [os.path.splitext(name)[0] for name in all_file_names]\n",
    "\n",
    "print(len(all_file_names))\n",
    "all_file_names[:5]"
   ]
  },
  {
   "cell_type": "code",
   "execution_count": 15,
   "id": "foreign-automation",
   "metadata": {},
   "outputs": [
    {
     "data": {
      "text/plain": [
       "['20201109_162447',\n",
       " '20201109_160657',\n",
       " '20201109_162512',\n",
       " '20201109_163203',\n",
       " '20201109_162952']"
      ]
     },
     "execution_count": 15,
     "metadata": {},
     "output_type": "execute_result"
    }
   ],
   "source": [
    "np.random.shuffle(all_file_names)\n",
    "all_file_names[:5]"
   ]
  },
  {
   "cell_type": "code",
   "execution_count": 16,
   "id": "neutral-fruit",
   "metadata": {},
   "outputs": [],
   "source": [
    "train_names, val_names= np.split(np.array(all_file_names),\n",
    "                                        [int(len(all_file_names)*0.85)])"
   ]
  },
  {
   "cell_type": "code",
   "execution_count": 17,
   "id": "russian-malaysia",
   "metadata": {},
   "outputs": [],
   "source": [
    "for name in train_names:\n",
    "    shutil.copy(old_dir_img + name + '.jpg', new_dir +'/images' + '/train')\n",
    "    shutil.copy(old_dir_anot + name + '.txt', new_dir +'/labels' + '/train')\n",
    "\n",
    "for name in val_names:\n",
    "    shutil.copy(old_dir_img + name + '.jpg', new_dir +'/images' + '/val')\n",
    "    shutil.copy(old_dir_anot + name + '.txt', new_dir +'/labels' + '/val')"
   ]
  }
 ],
 "metadata": {
  "kernelspec": {
   "display_name": "Python 3",
   "language": "python",
   "name": "python3"
  },
  "language_info": {
   "codemirror_mode": {
    "name": "ipython",
    "version": 3
   },
   "file_extension": ".py",
   "mimetype": "text/x-python",
   "name": "python",
   "nbconvert_exporter": "python",
   "pygments_lexer": "ipython3",
   "version": "3.7.10"
  }
 },
 "nbformat": 4,
 "nbformat_minor": 5
}
